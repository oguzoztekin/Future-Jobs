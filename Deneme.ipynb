{
 "cells": [
  {
   "cell_type": "code",
   "execution_count": 20,
   "metadata": {},
   "outputs": [],
   "source": [
    "# Linkleri Ayarlama\n",
    "\n",
    "import pandas as pd\n",
    "\n",
    "df = pd.read_excel(\"25112024_Ulkeler w_iso3.xlsx\")\n",
    "df_cleaned = df.dropna(subset=['country_iso3'])\n",
    "df_cleaned = df_cleaned.sort_values(by='country_iso3')\n",
    "url_template = \"https://widgets.weforum.org/future-of-jobs-2025/scorecards/score-card/economy/{}.json\"\n",
    "df_cleaned['URL'] = df_cleaned['country_iso3'].apply(lambda x: url_template.format(x))\n",
    "df_cleaned.to_excel(\"Links.xlsx\")"
   ]
  },
  {
   "cell_type": "code",
   "execution_count": 3,
   "metadata": {},
   "outputs": [],
   "source": [
    "import os\n",
    "import json\n",
    "import pandas as pd\n",
    "\n",
    "df = pd.read_excel(\"Links.xlsx\")\n",
    "df[\"Kontrol\"] = df[\"Unnamed: 4\"]\n",
    "filtered_df = df[df[\"Kontrol\"]==\"Var\"]\n",
    "filtered_df = filtered_df[[\"country_code\", \"country_iso3\", \"Kontrol\"]]\n",
    "l = filtered_df['country_iso3'].tolist()"
   ]
  },
  {
   "cell_type": "code",
   "execution_count": 27,
   "metadata": {},
   "outputs": [
    {
     "data": {
      "text/plain": [
       "'C:\\\\Users\\\\oguzo\\\\OneDrive - Fintegral\\\\Masaüstü\\\\Future Jobs\\\\Future-Jobs\\\\Datalar\\\\ARE.json'"
      ]
     },
     "execution_count": 27,
     "metadata": {},
     "output_type": "execute_result"
    }
   ],
   "source": [
    "base_path = r\"C:\\Users\\oguzo\\OneDrive - Fintegral\\Masaüstü\\Future Jobs\\Future-Jobs\\Datalar\"\n",
    "file_paths = [f\"{base_path}\\{country}.json\" for country in l]\n",
    "file_paths[0]"
   ]
  },
  {
   "cell_type": "code",
   "execution_count": null,
   "metadata": {},
   "outputs": [],
   "source": []
  }
 ],
 "metadata": {
  "kernelspec": {
   "display_name": "Python 3",
   "language": "python",
   "name": "python3"
  },
  "language_info": {
   "codemirror_mode": {
    "name": "ipython",
    "version": 3
   },
   "file_extension": ".py",
   "mimetype": "text/x-python",
   "name": "python",
   "nbconvert_exporter": "python",
   "pygments_lexer": "ipython3",
   "version": "3.11.9"
  }
 },
 "nbformat": 4,
 "nbformat_minor": 2
}
